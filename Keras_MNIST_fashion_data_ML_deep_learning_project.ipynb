{
  "nbformat": 4,
  "nbformat_minor": 0,
  "metadata": {
    "colab": {
      "provenance": [],
      "authorship_tag": "ABX9TyNfT96ZlQW0jqS92kOJ6QIs",
      "include_colab_link": true
    },
    "kernelspec": {
      "name": "python3",
      "display_name": "Python 3"
    },
    "language_info": {
      "name": "python"
    }
  },
  "cells": [
    {
      "cell_type": "markdown",
      "metadata": {
        "id": "view-in-github",
        "colab_type": "text"
      },
      "source": [
        "<a href=\"https://colab.research.google.com/github/skar0123/code_master/blob/main/Keras_MNIST_fashion_data_ML_deep_learning_project.ipynb\" target=\"_parent\"><img src=\"https://colab.research.google.com/assets/colab-badge.svg\" alt=\"Open In Colab\"/></a>"
      ]
    },
    {
      "cell_type": "code",
      "source": [
        "import tensorflow as tf\n",
        "import numpy as np\n",
        "import pandas as pd\n",
        "import matplotlib.pyplot as plt\n",
        "import cv2\n"
      ],
      "metadata": {
        "id": "9JJ4hxcmTqYA"
      },
      "execution_count": 4,
      "outputs": []
    },
    {
      "cell_type": "code",
      "source": [
        "(x_train, y_train), (x_test, y_test)= tf.keras.datasets.fashion_mnist.load_data()"
      ],
      "metadata": {
        "colab": {
          "base_uri": "https://localhost:8080/"
        },
        "id": "bU3EgfygUlb4",
        "outputId": "5432946c-fee1-4be1-9431-260946690a0b"
      },
      "execution_count": 5,
      "outputs": [
        {
          "output_type": "stream",
          "name": "stdout",
          "text": [
            "Downloading data from https://storage.googleapis.com/tensorflow/tf-keras-datasets/train-labels-idx1-ubyte.gz\n",
            "29515/29515 [==============================] - 0s 0us/step\n",
            "Downloading data from https://storage.googleapis.com/tensorflow/tf-keras-datasets/train-images-idx3-ubyte.gz\n",
            "26421880/26421880 [==============================] - 0s 0us/step\n",
            "Downloading data from https://storage.googleapis.com/tensorflow/tf-keras-datasets/t10k-labels-idx1-ubyte.gz\n",
            "5148/5148 [==============================] - 0s 0us/step\n",
            "Downloading data from https://storage.googleapis.com/tensorflow/tf-keras-datasets/t10k-images-idx3-ubyte.gz\n",
            "4422102/4422102 [==============================] - 0s 0us/step\n"
          ]
        }
      ]
    },
    {
      "cell_type": "code",
      "source": [
        "x_train.shape, y_train.shape"
      ],
      "metadata": {
        "colab": {
          "base_uri": "https://localhost:8080/"
        },
        "id": "RKeU7EpiVH2J",
        "outputId": "f6666c36-e9e0-4541-c72a-ffaf646efe94"
      },
      "execution_count": 6,
      "outputs": [
        {
          "output_type": "execute_result",
          "data": {
            "text/plain": [
              "((60000, 28, 28), (60000,))"
            ]
          },
          "metadata": {},
          "execution_count": 6
        }
      ]
    },
    {
      "cell_type": "markdown",
      "source": [
        "Now we have the above mnist_fashion data set, we have 60k images for traing the moel and 10k images for testing the model. now we have to perform data preprocessing\n"
      ],
      "metadata": {
        "id": "gqt2K3AyV5H8"
      }
    },
    {
      "cell_type": "code",
      "source": [
        "x_train = x_train/255.0\n",
        "y_train = tf.keras.utils.to_categorical(y_train)"
      ],
      "metadata": {
        "id": "vuDYihy1WUIU"
      },
      "execution_count": 7,
      "outputs": []
    },
    {
      "cell_type": "markdown",
      "source": [
        "Now let's check shapes of the data. the shapes are change for categorical data"
      ],
      "metadata": {
        "id": "Ee6WNOsAW3fR"
      }
    },
    {
      "cell_type": "code",
      "source": [
        "x_train.shape, y_train.shape"
      ],
      "metadata": {
        "colab": {
          "base_uri": "https://localhost:8080/"
        },
        "id": "350cWq9PW_cV",
        "outputId": "c839e860-32b6-436c-e492-4a6661290031"
      },
      "execution_count": 8,
      "outputs": [
        {
          "output_type": "execute_result",
          "data": {
            "text/plain": [
              "((60000, 28, 28), (60000, 10))"
            ]
          },
          "metadata": {},
          "execution_count": 8
        }
      ]
    },
    {
      "cell_type": "markdown",
      "source": [
        "**Now let's build the ML model**"
      ],
      "metadata": {
        "id": "FtyDtOsnXPbw"
      }
    },
    {
      "cell_type": "code",
      "source": [
        "model =tf.keras.models.Sequential()\n",
        "model.add(tf.keras.layers.Input((28, 28), name = \"Input\"))\n",
        "model.add(tf.keras.layers.Flatten(name = \"Flat\"))\n",
        "model.add(tf.keras.layers.Dense(512, activation = tf.keras.activations.relu, name = \"HiddenLayer1\"))\n",
        "model.add(tf.keras.layers.Dense(128, activation = tf.keras.activations.relu, name = \"HiddenLayer2\"))\n",
        "model.add(tf.keras.layers.Dense(10,activation = tf.keras.activations.softmax, name = \"Output\"))\n",
        "model.summary()"
      ],
      "metadata": {
        "colab": {
          "base_uri": "https://localhost:8080/"
        },
        "id": "LWisjFCkXVDw",
        "outputId": "22db8b51-cc80-4a5b-f9a1-48c08c435d2f"
      },
      "execution_count": 14,
      "outputs": [
        {
          "output_type": "stream",
          "name": "stdout",
          "text": [
            "Model: \"sequential_1\"\n",
            "_________________________________________________________________\n",
            " Layer (type)                Output Shape              Param #   \n",
            "=================================================================\n",
            " Flat (Flatten)              (None, 784)               0         \n",
            "                                                                 \n",
            " HiddenLayer1 (Dense)        (None, 512)               401920    \n",
            "                                                                 \n",
            " HiddenLayer2 (Dense)        (None, 128)               65664     \n",
            "                                                                 \n",
            " Output (Dense)              (None, 10)                1290      \n",
            "                                                                 \n",
            "=================================================================\n",
            "Total params: 468874 (1.79 MB)\n",
            "Trainable params: 468874 (1.79 MB)\n",
            "Non-trainable params: 0 (0.00 Byte)\n",
            "_________________________________________________________________\n"
          ]
        }
      ]
    },
    {
      "cell_type": "markdown",
      "source": [
        "**Now we are going to train this model**"
      ],
      "metadata": {
        "id": "IRayOnxzay3T"
      }
    },
    {
      "cell_type": "code",
      "source": [
        "model.compile(optimizer=tf.keras.optimizers.SGD(),\n",
        "loss = tf.keras.losses.categorical_crossentropy,\n",
        "metrics = [\"acc\"])"
      ],
      "metadata": {
        "id": "0x5bfS3Ia4Hb"
      },
      "execution_count": 17,
      "outputs": []
    },
    {
      "cell_type": "markdown",
      "source": [
        "**we don't need hre any learning rate, as I alreday applied SGD**"
      ],
      "metadata": {
        "id": "g3Z4NIPcckcM"
      }
    },
    {
      "cell_type": "markdown",
      "source": [
        "**Now Perform One Hot Encoding**"
      ],
      "metadata": {
        "id": "TcmgiGh4cHqe"
      }
    },
    {
      "cell_type": "code",
      "source": [
        "model.fit(x_train, y_train, batch_size=64, epochs = 20, validation_split =0.1)\n"
      ],
      "metadata": {
        "colab": {
          "base_uri": "https://localhost:8080/"
        },
        "id": "dIlq2kyQcNBf",
        "outputId": "4ea39897-5c73-49ab-b922-21cccb5bcc15"
      },
      "execution_count": 18,
      "outputs": [
        {
          "output_type": "stream",
          "name": "stdout",
          "text": [
            "Epoch 1/20\n",
            "844/844 [==============================] - 7s 7ms/step - loss: 0.8326 - acc: 0.7389 - val_loss: 0.5775 - val_acc: 0.8070\n",
            "Epoch 2/20\n",
            "844/844 [==============================] - 7s 8ms/step - loss: 0.5360 - acc: 0.8196 - val_loss: 0.5310 - val_acc: 0.8087\n",
            "Epoch 3/20\n",
            "844/844 [==============================] - 6s 7ms/step - loss: 0.4819 - acc: 0.8331 - val_loss: 0.4544 - val_acc: 0.8403\n",
            "Epoch 4/20\n",
            "844/844 [==============================] - 6s 7ms/step - loss: 0.4529 - acc: 0.8434 - val_loss: 0.4612 - val_acc: 0.8308\n",
            "Epoch 5/20\n",
            "844/844 [==============================] - 7s 9ms/step - loss: 0.4323 - acc: 0.8508 - val_loss: 0.4535 - val_acc: 0.8397\n",
            "Epoch 6/20\n",
            "844/844 [==============================] - 6s 7ms/step - loss: 0.4165 - acc: 0.8556 - val_loss: 0.4271 - val_acc: 0.8455\n",
            "Epoch 7/20\n",
            "844/844 [==============================] - 7s 9ms/step - loss: 0.4030 - acc: 0.8599 - val_loss: 0.4002 - val_acc: 0.8578\n",
            "Epoch 8/20\n",
            "844/844 [==============================] - 5s 6ms/step - loss: 0.3933 - acc: 0.8639 - val_loss: 0.3927 - val_acc: 0.8612\n",
            "Epoch 9/20\n",
            "844/844 [==============================] - 7s 8ms/step - loss: 0.3840 - acc: 0.8663 - val_loss: 0.4076 - val_acc: 0.8585\n",
            "Epoch 10/20\n",
            "844/844 [==============================] - 6s 7ms/step - loss: 0.3754 - acc: 0.8692 - val_loss: 0.3816 - val_acc: 0.8637\n",
            "Epoch 11/20\n",
            "844/844 [==============================] - 7s 8ms/step - loss: 0.3665 - acc: 0.8718 - val_loss: 0.3704 - val_acc: 0.8673\n",
            "Epoch 12/20\n",
            "844/844 [==============================] - 5s 6ms/step - loss: 0.3586 - acc: 0.8747 - val_loss: 0.3789 - val_acc: 0.8657\n",
            "Epoch 13/20\n",
            "844/844 [==============================] - 7s 8ms/step - loss: 0.3511 - acc: 0.8780 - val_loss: 0.3761 - val_acc: 0.8695\n",
            "Epoch 14/20\n",
            "844/844 [==============================] - 5s 6ms/step - loss: 0.3464 - acc: 0.8793 - val_loss: 0.3652 - val_acc: 0.8680\n",
            "Epoch 15/20\n",
            "844/844 [==============================] - 6s 8ms/step - loss: 0.3409 - acc: 0.8807 - val_loss: 0.3636 - val_acc: 0.8692\n",
            "Epoch 16/20\n",
            "844/844 [==============================] - 6s 7ms/step - loss: 0.3349 - acc: 0.8818 - val_loss: 0.3650 - val_acc: 0.8687\n",
            "Epoch 17/20\n",
            "844/844 [==============================] - 5s 6ms/step - loss: 0.3287 - acc: 0.8850 - val_loss: 0.3476 - val_acc: 0.8727\n",
            "Epoch 18/20\n",
            "844/844 [==============================] - 7s 8ms/step - loss: 0.3242 - acc: 0.8855 - val_loss: 0.3443 - val_acc: 0.8747\n",
            "Epoch 19/20\n",
            "844/844 [==============================] - 6s 7ms/step - loss: 0.3189 - acc: 0.8877 - val_loss: 0.3451 - val_acc: 0.8780\n",
            "Epoch 20/20\n",
            "844/844 [==============================] - 7s 9ms/step - loss: 0.3140 - acc: 0.8890 - val_loss: 0.3411 - val_acc: 0.8757\n"
          ]
        },
        {
          "output_type": "execute_result",
          "data": {
            "text/plain": [
              "<keras.src.callbacks.History at 0x7fd93f5ff130>"
            ]
          },
          "metadata": {},
          "execution_count": 18
        }
      ]
    },
    {
      "cell_type": "markdown",
      "source": [
        "**Now Let's calculate the Loss**"
      ],
      "metadata": {
        "id": "L_1ZfVxieL6B"
      }
    },
    {
      "cell_type": "code",
      "source": [
        "plt.plot(model.history.history[\"loss\"], label =\"Loss\")\n",
        "plt.plot(model.history.history[\"val_loss\"], label = \"ValLoss\")\n",
        "plt.legend()"
      ],
      "metadata": {
        "colab": {
          "base_uri": "https://localhost:8080/",
          "height": 448
        },
        "id": "SyEv_yJGeQeD",
        "outputId": "02483004-1731-45fa-9ce4-c21a371d1a21"
      },
      "execution_count": 19,
      "outputs": [
        {
          "output_type": "execute_result",
          "data": {
            "text/plain": [
              "<matplotlib.legend.Legend at 0x7fd92427be80>"
            ]
          },
          "metadata": {},
          "execution_count": 19
        },
        {
          "output_type": "display_data",
          "data": {
            "text/plain": [
              "<Figure size 640x480 with 1 Axes>"
            ],
            "image/png": "[encoded data removed]"
          },
          "metadata": {}
        }
      ]
    },
    {
      "cell_type": "markdown",
      "source": [
        "this model is very good, fantastic, the loss is very few"
      ],
      "metadata": {
        "id": "bjWNLF-ae1E6"
      }
    },
    {
      "cell_type": "code",
      "source": [
        "# Metrics\n",
        "test_image = x_test[0]\n",
        "plt.imshow(test_image)\n",
        "y_test[0]"
      ],
      "metadata": {
        "colab": {
          "base_uri": "https://localhost:8080/",
          "height": 448
        },
        "id": "9jPA2Cw6e7AM",
        "outputId": "9409af11-cf45-483e-94a3-1f7b909f19e9"
      },
      "execution_count": 20,
      "outputs": [
        {
          "output_type": "execute_result",
          "data": {
            "text/plain": [
              "9"
            ]
          },
          "metadata": {},
          "execution_count": 20
        },
        {
          "output_type": "display_data",
          "data": {
            "text/plain": [
              "<Figure size 640x480 with 1 Axes>"
            ],
            "image/png": "[encoded data removed]"
          },
          "metadata": {}
        }
      ]
    },
    {
      "cell_type": "markdown",
      "source": [
        "Now can I directly give this image to my model and ask it some question, No! never, I have to first normalize the images as the model accepts only normalized images. so I have to preprocess the images"
      ],
      "metadata": {
        "id": "S4pIfh1ZgZM5"
      }
    },
    {
      "cell_type": "code",
      "source": [
        "test_image = test_image / 255.0"
      ],
      "metadata": {
        "id": "tRhdBZ8pgw1O"
      },
      "execution_count": 21,
      "outputs": []
    },
    {
      "cell_type": "code",
      "source": [
        "test_image.shape"
      ],
      "metadata": {
        "colab": {
          "base_uri": "https://localhost:8080/"
        },
        "id": "kSaqczvgg6fb",
        "outputId": "304190d4-c4df-4ee0-fc47-ce25abf8478c"
      },
      "execution_count": 22,
      "outputs": [
        {
          "output_type": "execute_result",
          "data": {
            "text/plain": [
              "(28, 28)"
            ]
          },
          "metadata": {},
          "execution_count": 22
        }
      ]
    },
    {
      "cell_type": "code",
      "source": [
        "model.input_shape"
      ],
      "metadata": {
        "colab": {
          "base_uri": "https://localhost:8080/"
        },
        "id": "QasZg1pdg-lU",
        "outputId": "9ef7ee46-ee73-41c8-bb1c-18194582e144"
      },
      "execution_count": 23,
      "outputs": [
        {
          "output_type": "execute_result",
          "data": {
            "text/plain": [
              "(None, 28, 28)"
            ]
          },
          "metadata": {},
          "execution_count": 23
        }
      ]
    },
    {
      "cell_type": "markdown",
      "source": [
        "that is the model is expecting the 28x28 images and also a none image that is it does not know I send it 1 image or 2 image or what that is how many images I sending so it is also put a none there. technically the above should be 1,28,28.\n",
        "so how to put a 1 in place of none.\n",
        "# so we need to add num_of_images in our test images"
      ],
      "metadata": {
        "id": "F3uUSeXJhDrq"
      }
    },
    {
      "cell_type": "code",
      "source": [
        "test_image = np.expand_dims(test_image, axis = 0)"
      ],
      "metadata": {
        "id": "Ij6ldH9Xhx_T"
      },
      "execution_count": 24,
      "outputs": []
    },
    {
      "cell_type": "code",
      "source": [
        "test_image.shape"
      ],
      "metadata": {
        "colab": {
          "base_uri": "https://localhost:8080/"
        },
        "id": "q2Avd1y9iFSq",
        "outputId": "f472c4ea-88d6-41c2-9d7e-497cbd59e183"
      },
      "execution_count": 25,
      "outputs": [
        {
          "output_type": "execute_result",
          "data": {
            "text/plain": [
              "(1, 28, 28)"
            ]
          },
          "metadata": {},
          "execution_count": 25
        }
      ]
    },
    {
      "cell_type": "markdown",
      "source": [
        "now I can send the image to my model"
      ],
      "metadata": {
        "id": "HRd35g6jiJLE"
      }
    },
    {
      "cell_type": "code",
      "source": [
        "model.predict(test_image)"
      ],
      "metadata": {
        "colab": {
          "base_uri": "https://localhost:8080/"
        },
        "id": "j-AHi2MAiRCJ",
        "outputId": "35d8c65d-ceb8-434f-a5af-61dfa2dd2616"
      },
      "execution_count": 26,
      "outputs": [
        {
          "output_type": "stream",
          "name": "stdout",
          "text": [
            "1/1 [==============================] - 0s 96ms/step\n"
          ]
        },
        {
          "output_type": "execute_result",
          "data": {
            "text/plain": [
              "array([[4.2391719e-05, 6.1353953e-06, 3.7948339e-05, 2.3665103e-05,\n",
              "        8.2752713e-06, 4.9245678e-02, 8.2988037e-05, 9.7959474e-02,\n",
              "        5.3640055e-03, 8.4722948e-01]], dtype=float32)"
            ]
          },
          "metadata": {},
          "execution_count": 26
        }
      ]
    },
    {
      "cell_type": "markdown",
      "source": [
        "now let's check the results"
      ],
      "metadata": {
        "id": "KEBt9R0XilPX"
      }
    },
    {
      "cell_type": "code",
      "source": [
        "results = model.predict(test_image)\n",
        "results"
      ],
      "metadata": {
        "colab": {
          "base_uri": "https://localhost:8080/"
        },
        "id": "jjnrtM1MioSu",
        "outputId": "49d5ec7c-e209-45ae-d702-4272c747969a"
      },
      "execution_count": 27,
      "outputs": [
        {
          "output_type": "stream",
          "name": "stdout",
          "text": [
            "1/1 [==============================] - 0s 88ms/step\n"
          ]
        },
        {
          "output_type": "execute_result",
          "data": {
            "text/plain": [
              "array([[4.2391719e-05, 6.1353953e-06, 3.7948339e-05, 2.3665103e-05,\n",
              "        8.2752713e-06, 4.9245678e-02, 8.2988037e-05, 9.7959474e-02,\n",
              "        5.3640055e-03, 8.4722948e-01]], dtype=float32)"
            ]
          },
          "metadata": {},
          "execution_count": 27
        }
      ]
    },
    {
      "cell_type": "code",
      "source": [
        "results.max()"
      ],
      "metadata": {
        "colab": {
          "base_uri": "https://localhost:8080/"
        },
        "id": "H2gqp6t2iyK_",
        "outputId": "bda2c4f5-c3c1-4f47-d20b-1dfc31e782cc"
      },
      "execution_count": 29,
      "outputs": [
        {
          "output_type": "execute_result",
          "data": {
            "text/plain": [
              "0.8472295"
            ]
          },
          "metadata": {},
          "execution_count": 29
        }
      ]
    },
    {
      "cell_type": "code",
      "source": [
        "np.argmax(results)    # it will return the position at which maximum probability resides"
      ],
      "metadata": {
        "colab": {
          "base_uri": "https://localhost:8080/"
        },
        "id": "K1OIqoF-i5lP",
        "outputId": "e1c0f7fb-fae1-4c26-cb24-adea2832ac4f"
      },
      "execution_count": 30,
      "outputs": [
        {
          "output_type": "execute_result",
          "data": {
            "text/plain": [
              "9"
            ]
          },
          "metadata": {},
          "execution_count": 30
        }
      ]
    },
    {
      "cell_type": "code",
      "source": [
        "def predict_func(image):\n",
        "  image = image / 255.0\n",
        "  image = np.expand_dims(image, axis =0)\n",
        "  results = model.predict(image)\n",
        "  return f\"Predicted Label:{np.argmax(results)}\""
      ],
      "metadata": {
        "id": "EA5rtYFKjG2z"
      },
      "execution_count": 33,
      "outputs": []
    },
    {
      "cell_type": "code",
      "source": [
        "# lets check the 100th image hoe it looks like: f is the formatted strings\n",
        "plt.imshow(x_test[455])\n",
        "print(f\"Actual Label:{y_test[455]}\")\n",
        "predict_func(x_test[455])"
      ],
      "metadata": {
        "colab": {
          "base_uri": "https://localhost:8080/",
          "height": 485
        },
        "id": "xJgIi_mFjpQc",
        "outputId": "cd61923e-52cc-4534-9bfc-0ee0adc48904"
      },
      "execution_count": 36,
      "outputs": [
        {
          "output_type": "stream",
          "name": "stdout",
          "text": [
            "Actual Label:2\n",
            "1/1 [==============================] - 0s 33ms/step\n"
          ]
        },
        {
          "output_type": "execute_result",
          "data": {
            "text/plain": [
              "'Predicted Label:2'"
            ],
            "application/vnd.google.colaboratory.intrinsic+json": {
              "type": "string"
            }
          },
          "metadata": {},
          "execution_count": 36
        },
        {
          "output_type": "display_data",
          "data": {
            "text/plain": [
              "<Figure size 640x480 with 1 Axes>"
            ],
            "image/png": "[encoded data removed]"
          },
          "metadata": {}
        }
      ]
    },
    {
      "cell_type": "markdown",
      "source": [
        "Ye, My model can predict! For this I have built the above inferencing functions."
      ],
      "metadata": {
        "id": "z4zQHyG5l_OG"
      }
    },
    {
      "cell_type": "code",
      "source": [
        "# how to send the tetsing numbers to the clients!\n",
        "\n",
        "x_test_v2 = x_test /255.0"
      ],
      "metadata": {
        "id": "c3s3bQtAmMF-"
      },
      "execution_count": 37,
      "outputs": []
    },
    {
      "cell_type": "code",
      "source": [
        "x_test_v2.shape"
      ],
      "metadata": {
        "colab": {
          "base_uri": "https://localhost:8080/"
        },
        "id": "WQf503LmmmCs",
        "outputId": "2554a417-6806-4803-9cad-585e93e3135b"
      },
      "execution_count": 38,
      "outputs": [
        {
          "output_type": "execute_result",
          "data": {
            "text/plain": [
              "(10000, 28, 28)"
            ]
          },
          "metadata": {},
          "execution_count": 38
        }
      ]
    },
    {
      "cell_type": "code",
      "source": [
        "# I can directly send this to model.predict\n",
        "result = model.predict(x_test_v2)"
      ],
      "metadata": {
        "colab": {
          "base_uri": "https://localhost:8080/"
        },
        "id": "i08qXMIImvWY",
        "outputId": "7e8864b3-9bc1-40b4-ed8c-cb063ff2c61e"
      },
      "execution_count": 39,
      "outputs": [
        {
          "output_type": "stream",
          "name": "stdout",
          "text": [
            "313/313 [==============================] - 1s 3ms/step\n"
          ]
        }
      ]
    },
    {
      "cell_type": "code",
      "source": [
        "# the above 313 is the batch_size taken by the model for prediction"
      ],
      "metadata": {
        "id": "duOryhelnMFI"
      },
      "execution_count": 52,
      "outputs": []
    },
    {
      "cell_type": "code",
      "source": [
        "model.output_shape"
      ],
      "metadata": {
        "colab": {
          "base_uri": "https://localhost:8080/"
        },
        "id": "8OQqI435nVk-",
        "outputId": "3f155541-9605-46ba-9c19-27b21c3956d7"
      },
      "execution_count": 40,
      "outputs": [
        {
          "output_type": "execute_result",
          "data": {
            "text/plain": [
              "(None, 10)"
            ]
          },
          "metadata": {},
          "execution_count": 40
        }
      ]
    },
    {
      "cell_type": "code",
      "source": [
        "# the above show that for each image we have a probability of 10 and we have 10k images"
      ],
      "metadata": {
        "id": "cJXCULX5nc0q"
      },
      "execution_count": 51,
      "outputs": []
    },
    {
      "cell_type": "code",
      "source": [
        "result.shape"
      ],
      "metadata": {
        "colab": {
          "base_uri": "https://localhost:8080/"
        },
        "id": "Vt0k43JinljO",
        "outputId": "35e3e1da-ad8f-4f64-ab22-838906b058da"
      },
      "execution_count": 41,
      "outputs": [
        {
          "output_type": "execute_result",
          "data": {
            "text/plain": [
              "(10000, 10)"
            ]
          },
          "metadata": {},
          "execution_count": 41
        }
      ]
    },
    {
      "cell_type": "code",
      "source": [
        "result[0]"
      ],
      "metadata": {
        "colab": {
          "base_uri": "https://localhost:8080/"
        },
        "id": "lyl-jRaRnpBu",
        "outputId": "91e5958a-dee1-40f2-9a5f-7deac665dd6b"
      },
      "execution_count": 42,
      "outputs": [
        {
          "output_type": "execute_result",
          "data": {
            "text/plain": [
              "array([4.2391803e-05, 6.1354012e-06, 3.7948375e-05, 2.3665149e-05,\n",
              "       8.2752713e-06, 4.9245585e-02, 8.2988037e-05, 9.7959563e-02,\n",
              "       5.3640208e-03, 8.4722948e-01], dtype=float32)"
            ]
          },
          "metadata": {},
          "execution_count": 42
        }
      ]
    },
    {
      "cell_type": "code",
      "source": [
        "# when you want to done any ML operations alwys take 1 as axis as it is upside down and always acts as row"
      ],
      "metadata": {
        "id": "ZKrK4wQRoRDg"
      },
      "execution_count": 50,
      "outputs": []
    },
    {
      "cell_type": "code",
      "source": [
        "y_pred = np.argmax(result, axis = 1)\n",
        "y_pred"
      ],
      "metadata": {
        "colab": {
          "base_uri": "https://localhost:8080/"
        },
        "id": "EJqqvmGjnss6",
        "outputId": "3ecfcd0f-d63a-4e14-b392-62cca814ab49"
      },
      "execution_count": 45,
      "outputs": [
        {
          "output_type": "execute_result",
          "data": {
            "text/plain": [
              "array([9, 2, 1, ..., 8, 1, 5])"
            ]
          },
          "metadata": {},
          "execution_count": 45
        }
      ]
    },
    {
      "cell_type": "code",
      "source": [
        "y_test"
      ],
      "metadata": {
        "colab": {
          "base_uri": "https://localhost:8080/"
        },
        "id": "GYphSxJbofaP",
        "outputId": "8dc67fc6-e758-444b-ec1a-a5fdaa33cb41"
      },
      "execution_count": 46,
      "outputs": [
        {
          "output_type": "execute_result",
          "data": {
            "text/plain": [
              "array([9, 2, 1, ..., 8, 1, 5], dtype=uint8)"
            ]
          },
          "metadata": {},
          "execution_count": 46
        }
      ]
    },
    {
      "cell_type": "code",
      "source": [
        "(y_pred==y_test)"
      ],
      "metadata": {
        "colab": {
          "base_uri": "https://localhost:8080/"
        },
        "id": "0NPbPZdIowCr",
        "outputId": "df007a7e-fa99-4b73-ba71-82a697028f87"
      },
      "execution_count": 47,
      "outputs": [
        {
          "output_type": "execute_result",
          "data": {
            "text/plain": [
              "array([ True,  True,  True, ...,  True,  True,  True])"
            ]
          },
          "metadata": {},
          "execution_count": 47
        }
      ]
    },
    {
      "cell_type": "code",
      "source": [
        "# when you comapre python alwyas give true false, true false we know that true=1 and fasle=0"
      ],
      "metadata": {
        "id": "-hmcBuiEo-hH"
      },
      "execution_count": 49,
      "outputs": []
    },
    {
      "cell_type": "code",
      "source": [
        "(y_pred==y_test).mean()   # the following is the accuracy: it means in every 100 images only 87 image orrectly identified by the model adn remaining 10 will not identified"
      ],
      "metadata": {
        "colab": {
          "base_uri": "https://localhost:8080/"
        },
        "id": "owLwP56Bo1ke",
        "outputId": "e877cb31-d542-4b7a-81f1-5df840157414"
      },
      "execution_count": 53,
      "outputs": [
        {
          "output_type": "execute_result",
          "data": {
            "text/plain": [
              "0.8711"
            ]
          },
          "metadata": {},
          "execution_count": 53
        }
      ]
    },
    {
      "cell_type": "code",
      "source": [
        "# lets find out the accuracy score\n",
        "scores = pd.DataFrame()\n",
        "scores[\"y_pred\"]= y_pred\n",
        "scores[\"y_test\"] =y_test"
      ],
      "metadata": {
        "id": "OiUcVymjo95Q"
      },
      "execution_count": 54,
      "outputs": []
    },
    {
      "cell_type": "code",
      "source": [
        "scores"
      ],
      "metadata": {
        "colab": {
          "base_uri": "https://localhost:8080/",
          "height": 423
        },
        "id": "CZxnrVVbp6IF",
        "outputId": "bf5bd1ff-b56e-4e40-e10e-98412a7e2f7e"
      },
      "execution_count": 55,
      "outputs": [
        {
          "output_type": "execute_result",
          "data": {
            "text/plain": [
              "      y_pred  y_test\n",
              "0          9       9\n",
              "1          2       2\n",
              "2          1       1\n",
              "3          1       1\n",
              "4          6       6\n",
              "...      ...     ...\n",
              "9995       9       9\n",
              "9996       1       1\n",
              "9997       8       8\n",
              "9998       1       1\n",
              "9999       5       5\n",
              "\n",
              "[10000 rows x 2 columns]"
            ],
            "text/html": [
              "\n",
              "  <div id=\"df-99154f2a-cb3f-477a-bd36-776e82f87a1f\" class=\"colab-df-container\">\n",
              "    <div>\n",
              "<style scoped>\n",
              "    .dataframe tbody tr th:only-of-type {\n",
              "        vertical-align: middle;\n",
              "    }\n",
              "\n",
              "    .dataframe tbody tr th {\n",
              "        vertical-align: top;\n",
              "    }\n",
              "\n",
              "    .dataframe thead th {\n",
              "        text-align: right;\n",
              "    }\n",
              "</style>\n",
              "<table border=\"1\" class=\"dataframe\">\n",
              "  <thead>\n",
              "    <tr style=\"text-align: right;\">\n",
              "      <th></th>\n",
              "      <th>y_pred</th>\n",
              "      <th>y_test</th>\n",
              "    </tr>\n",
              "  </thead>\n",
              "  <tbody>\n",
              "    <tr>\n",
              "      <th>0</th>\n",
              "      <td>9</td>\n",
              "      <td>9</td>\n",
              "    </tr>\n",
              "    <tr>\n",
              "      <th>1</th>\n",
              "      <td>2</td>\n",
              "      <td>2</td>\n",
              "    </tr>\n",
              "    <tr>\n",
              "      <th>2</th>\n",
              "      <td>1</td>\n",
              "      <td>1</td>\n",
              "    </tr>\n",
              "    <tr>\n",
              "      <th>3</th>\n",
              "      <td>1</td>\n",
              "      <td>1</td>\n",
              "    </tr>\n",
              "    <tr>\n",
              "      <th>4</th>\n",
              "      <td>6</td>\n",
              "      <td>6</td>\n",
              "    </tr>\n",
              "    <tr>\n",
              "      <th>...</th>\n",
              "      <td>...</td>\n",
              "      <td>...</td>\n",
              "    </tr>\n",
              "    <tr>\n",
              "      <th>9995</th>\n",
              "      <td>9</td>\n",
              "      <td>9</td>\n",
              "    </tr>\n",
              "    <tr>\n",
              "      <th>9996</th>\n",
              "      <td>1</td>\n",
              "      <td>1</td>\n",
              "    </tr>\n",
              "    <tr>\n",
              "      <th>9997</th>\n",
              "      <td>8</td>\n",
              "      <td>8</td>\n",
              "    </tr>\n",
              "    <tr>\n",
              "      <th>9998</th>\n",
              "      <td>1</td>\n",
              "      <td>1</td>\n",
              "    </tr>\n",
              "    <tr>\n",
              "      <th>9999</th>\n",
              "      <td>5</td>\n",
              "      <td>5</td>\n",
              "    </tr>\n",
              "  </tbody>\n",
              "</table>\n",
              "<p>10000 rows × 2 columns</p>\n",
              "</div>\n",
              "    <div class=\"colab-df-buttons\">\n",
              "\n",
              "  <div class=\"colab-df-container\">\n",
              "    <button class=\"colab-df-convert\" onclick=\"convertToInteractive('df-99154f2a-cb3f-477a-bd36-776e82f87a1f')\"\n",
              "            title=\"Convert this dataframe to an interactive table.\"\n",
              "            style=\"display:none;\">\n",
              "\n",
              "  <svg xmlns=\"http://www.w3.org/2000/svg\" height=\"24px\" viewBox=\"0 -960 960 960\">\n",
              "    <path d=\"M120-120v-720h720v720H120Zm60-500h600v-160H180v160Zm220 220h160v-160H400v160Zm0 220h160v-160H400v160ZM180-400h160v-160H180v160Zm440 0h160v-160H620v160ZM180-180h160v-160H180v160Zm440 0h160v-160H620v160Z\"/>\n",
              "  </svg>\n",
              "    </button>\n",
              "\n",
              "  <style>\n",
              "    .colab-df-container {\n",
              "      display:flex;\n",
              "      gap: 12px;\n",
              "    }\n",
              "\n",
              "    .colab-df-convert {\n",
              "      background-color: #E8F0FE;\n",
              "      border: none;\n",
              "      border-radius: 50%;\n",
              "      cursor: pointer;\n",
              "      display: none;\n",
              "      fill: #1967D2;\n",
              "      height: 32px;\n",
              "      padding: 0 0 0 0;\n",
              "      width: 32px;\n",
              "    }\n",
              "\n",
              "    .colab-df-convert:hover {\n",
              "      background-color: #E2EBFA;\n",
              "      box-shadow: 0px 1px 2px rgba(60, 64, 67, 0.3), 0px 1px 3px 1px rgba(60, 64, 67, 0.15);\n",
              "      fill: #174EA6;\n",
              "    }\n",
              "\n",
              "    .colab-df-buttons div {\n",
              "      margin-bottom: 4px;\n",
              "    }\n",
              "\n",
              "    [theme=dark] .colab-df-convert {\n",
              "      background-color: #3B4455;\n",
              "      fill: #D2E3FC;\n",
              "    }\n",
              "\n",
              "    [theme=dark] .colab-df-convert:hover {\n",
              "      background-color: #434B5C;\n",
              "      box-shadow: 0px 1px 3px 1px rgba(0, 0, 0, 0.15);\n",
              "      filter: drop-shadow(0px 1px 2px rgba(0, 0, 0, 0.3));\n",
              "      fill: #FFFFFF;\n",
              "    }\n",
              "  </style>\n",
              "\n",
              "    <script>\n",
              "      const buttonEl =\n",
              "        document.querySelector('#df-99154f2a-cb3f-477a-bd36-776e82f87a1f button.colab-df-convert');\n",
              "      buttonEl.style.display =\n",
              "        google.colab.kernel.accessAllowed ? 'block' : 'none';\n",
              "\n",
              "      async function convertToInteractive(key) {\n",
              "        const element = document.querySelector('#df-99154f2a-cb3f-477a-bd36-776e82f87a1f');\n",
              "        const dataTable =\n",
              "          await google.colab.kernel.invokeFunction('convertToInteractive',\n",
              "                                                    [key], {});\n",
              "        if (!dataTable) return;\n",
              "\n",
              "        const docLinkHtml = 'Like what you see? Visit the ' +\n",
              "          '<a target=\"_blank\" href=https://colab.research.google.com/notebooks/data_table.ipynb>data table notebook</a>'\n",
              "          + ' to learn more about interactive tables.';\n",
              "        element.innerHTML = '';\n",
              "        dataTable['output_type'] = 'display_data';\n",
              "        await google.colab.output.renderOutput(dataTable, element);\n",
              "        const docLink = document.createElement('div');\n",
              "        docLink.innerHTML = docLinkHtml;\n",
              "        element.appendChild(docLink);\n",
              "      }\n",
              "    </script>\n",
              "  </div>\n",
              "\n",
              "\n",
              "<div id=\"df-1cb3f1dc-e93f-4bb6-b6b7-c092d62e7fbf\">\n",
              "  <button class=\"colab-df-quickchart\" onclick=\"quickchart('df-1cb3f1dc-e93f-4bb6-b6b7-c092d62e7fbf')\"\n",
              "            title=\"Suggest charts\"\n",
              "            style=\"display:none;\">\n",
              "\n",
              "<svg xmlns=\"http://www.w3.org/2000/svg\" height=\"24px\"viewBox=\"0 0 24 24\"\n",
              "     width=\"24px\">\n",
              "    <g>\n",
              "        <path d=\"M19 3H5c-1.1 0-2 .9-2 2v14c0 1.1.9 2 2 2h14c1.1 0 2-.9 2-2V5c0-1.1-.9-2-2-2zM9 17H7v-7h2v7zm4 0h-2V7h2v10zm4 0h-2v-4h2v4z\"/>\n",
              "    </g>\n",
              "</svg>\n",
              "  </button>\n",
              "\n",
              "<style>\n",
              "  .colab-df-quickchart {\n",
              "      --bg-color: #E8F0FE;\n",
              "      --fill-color: #1967D2;\n",
              "      --hover-bg-color: #E2EBFA;\n",
              "      --hover-fill-color: #174EA6;\n",
              "      --disabled-fill-color: #AAA;\n",
              "      --disabled-bg-color: #DDD;\n",
              "  }\n",
              "\n",
              "  [theme=dark] .colab-df-quickchart {\n",
              "      --bg-color: #3B4455;\n",
              "      --fill-color: #D2E3FC;\n",
              "      --hover-bg-color: #434B5C;\n",
              "      --hover-fill-color: #FFFFFF;\n",
              "      --disabled-bg-color: #3B4455;\n",
              "      --disabled-fill-color: #666;\n",
              "  }\n",
              "\n",
              "  .colab-df-quickchart {\n",
              "    background-color: var(--bg-color);\n",
              "    border: none;\n",
              "    border-radius: 50%;\n",
              "    cursor: pointer;\n",
              "    display: none;\n",
              "    fill: var(--fill-color);\n",
              "    height: 32px;\n",
              "    padding: 0;\n",
              "    width: 32px;\n",
              "  }\n",
              "\n",
              "  .colab-df-quickchart:hover {\n",
              "    background-color: var(--hover-bg-color);\n",
              "    box-shadow: 0 1px 2px rgba(60, 64, 67, 0.3), 0 1px 3px 1px rgba(60, 64, 67, 0.15);\n",
              "    fill: var(--button-hover-fill-color);\n",
              "  }\n",
              "\n",
              "  .colab-df-quickchart-complete:disabled,\n",
              "  .colab-df-quickchart-complete:disabled:hover {\n",
              "    background-color: var(--disabled-bg-color);\n",
              "    fill: var(--disabled-fill-color);\n",
              "    box-shadow: none;\n",
              "  }\n",
              "\n",
              "  .colab-df-spinner {\n",
              "    border: 2px solid var(--fill-color);\n",
              "    border-color: transparent;\n",
              "    border-bottom-color: var(--fill-color);\n",
              "    animation:\n",
              "      spin 1s steps(1) infinite;\n",
              "  }\n",
              "\n",
              "  @keyframes spin {\n",
              "    0% {\n",
              "      border-color: transparent;\n",
              "      border-bottom-color: var(--fill-color);\n",
              "      border-left-color: var(--fill-color);\n",
              "    }\n",
              "    20% {\n",
              "      border-color: transparent;\n",
              "      border-left-color: var(--fill-color);\n",
              "      border-top-color: var(--fill-color);\n",
              "    }\n",
              "    30% {\n",
              "      border-color: transparent;\n",
              "      border-left-color: var(--fill-color);\n",
              "      border-top-color: var(--fill-color);\n",
              "      border-right-color: var(--fill-color);\n",
              "    }\n",
              "    40% {\n",
              "      border-color: transparent;\n",
              "      border-right-color: var(--fill-color);\n",
              "      border-top-color: var(--fill-color);\n",
              "    }\n",
              "    60% {\n",
              "      border-color: transparent;\n",
              "      border-right-color: var(--fill-color);\n",
              "    }\n",
              "    80% {\n",
              "      border-color: transparent;\n",
              "      border-right-color: var(--fill-color);\n",
              "      border-bottom-color: var(--fill-color);\n",
              "    }\n",
              "    90% {\n",
              "      border-color: transparent;\n",
              "      border-bottom-color: var(--fill-color);\n",
              "    }\n",
              "  }\n",
              "</style>\n",
              "\n",
              "  <script>\n",
              "    async function quickchart(key) {\n",
              "      const quickchartButtonEl =\n",
              "        document.querySelector('#' + key + ' button');\n",
              "      quickchartButtonEl.disabled = true;  // To prevent multiple clicks.\n",
              "      quickchartButtonEl.classList.add('colab-df-spinner');\n",
              "      try {\n",
              "        const charts = await google.colab.kernel.invokeFunction(\n",
              "            'suggestCharts', [key], {});\n",
              "      } catch (error) {\n",
              "        console.error('Error during call to suggestCharts:', error);\n",
              "      }\n",
              "      quickchartButtonEl.classList.remove('colab-df-spinner');\n",
              "      quickchartButtonEl.classList.add('colab-df-quickchart-complete');\n",
              "    }\n",
              "    (() => {\n",
              "      let quickchartButtonEl =\n",
              "        document.querySelector('#df-1cb3f1dc-e93f-4bb6-b6b7-c092d62e7fbf button');\n",
              "      quickchartButtonEl.style.display =\n",
              "        google.colab.kernel.accessAllowed ? 'block' : 'none';\n",
              "    })();\n",
              "  </script>\n",
              "</div>\n",
              "\n",
              "  <div id=\"id_d8dbd4a0-d815-4bd0-8fbb-a06f0d64713b\">\n",
              "    <style>\n",
              "      .colab-df-generate {\n",
              "        background-color: #E8F0FE;\n",
              "        border: none;\n",
              "        border-radius: 50%;\n",
              "        cursor: pointer;\n",
              "        display: none;\n",
              "        fill: #1967D2;\n",
              "        height: 32px;\n",
              "        padding: 0 0 0 0;\n",
              "        width: 32px;\n",
              "      }\n",
              "\n",
              "      .colab-df-generate:hover {\n",
              "        background-color: #E2EBFA;\n",
              "        box-shadow: 0px 1px 2px rgba(60, 64, 67, 0.3), 0px 1px 3px 1px rgba(60, 64, 67, 0.15);\n",
              "        fill: #174EA6;\n",
              "      }\n",
              "\n",
              "      [theme=dark] .colab-df-generate {\n",
              "        background-color: #3B4455;\n",
              "        fill: #D2E3FC;\n",
              "      }\n",
              "\n",
              "      [theme=dark] .colab-df-generate:hover {\n",
              "        background-color: #434B5C;\n",
              "        box-shadow: 0px 1px 3px 1px rgba(0, 0, 0, 0.15);\n",
              "        filter: drop-shadow(0px 1px 2px rgba(0, 0, 0, 0.3));\n",
              "        fill: #FFFFFF;\n",
              "      }\n",
              "    </style>\n",
              "    <button class=\"colab-df-generate\" onclick=\"generateWithVariable('scores')\"\n",
              "            title=\"Generate code using this dataframe.\"\n",
              "            style=\"display:none;\">\n",
              "\n",
              "  <svg xmlns=\"http://www.w3.org/2000/svg\" height=\"24px\"viewBox=\"0 0 24 24\"\n",
              "       width=\"24px\">\n",
              "    <path d=\"M7,19H8.4L18.45,9,17,7.55,7,17.6ZM5,21V16.75L18.45,3.32a2,2,0,0,1,2.83,0l1.4,1.43a1.91,1.91,0,0,1,.58,1.4,1.91,1.91,0,0,1-.58,1.4L9.25,21ZM18.45,9,17,7.55Zm-12,3A5.31,5.31,0,0,0,4.9,8.1,5.31,5.31,0,0,0,1,6.5,5.31,5.31,0,0,0,4.9,4.9,5.31,5.31,0,0,0,6.5,1,5.31,5.31,0,0,0,8.1,4.9,5.31,5.31,0,0,0,12,6.5,5.46,5.46,0,0,0,6.5,12Z\"/>\n",
              "  </svg>\n",
              "    </button>\n",
              "    <script>\n",
              "      (() => {\n",
              "      const buttonEl =\n",
              "        document.querySelector('#id_d8dbd4a0-d815-4bd0-8fbb-a06f0d64713b button.colab-df-generate');\n",
              "      buttonEl.style.display =\n",
              "        google.colab.kernel.accessAllowed ? 'block' : 'none';\n",
              "\n",
              "      buttonEl.onclick = () => {\n",
              "        google.colab.notebook.generateWithVariable('scores');\n",
              "      }\n",
              "      })();\n",
              "    </script>\n",
              "  </div>\n",
              "\n",
              "    </div>\n",
              "  </div>\n"
            ]
          },
          "metadata": {},
          "execution_count": 55
        }
      ]
    },
    {
      "cell_type": "code",
      "source": [
        "tf.keras.metrics.Accuracy()"
      ],
      "metadata": {
        "colab": {
          "base_uri": "https://localhost:8080/"
        },
        "id": "liLLoZPVp9WS",
        "outputId": "e0164d62-9f08-4857-91ef-6039de806be9"
      },
      "execution_count": 56,
      "outputs": [
        {
          "output_type": "execute_result",
          "data": {
            "text/plain": [
              "<keras.src.metrics.accuracy_metrics.Accuracy at 0x7fd9a6fbb9d0>"
            ]
          },
          "metadata": {},
          "execution_count": 56
        }
      ]
    },
    {
      "cell_type": "code",
      "source": [
        "import sklearn\n",
        "from sklearn.metrics import accuracy_score, confusion_matrix,ConfusionMatrixDisplay"
      ],
      "metadata": {
        "id": "FEkt8UCzqLQU"
      },
      "execution_count": 61,
      "outputs": []
    },
    {
      "cell_type": "markdown",
      "source": [
        "**let's find out the accuracy score**"
      ],
      "metadata": {
        "id": "OoE5m2PAqkMC"
      }
    },
    {
      "cell_type": "code",
      "source": [
        "accuracy_score(y_test, y_pred)"
      ],
      "metadata": {
        "colab": {
          "base_uri": "https://localhost:8080/"
        },
        "id": "d7x03mRWqU_6",
        "outputId": "fb91bfb0-fe5f-4fa7-ad2c-34ea9f0f9c3a"
      },
      "execution_count": 62,
      "outputs": [
        {
          "output_type": "execute_result",
          "data": {
            "text/plain": [
              "0.8711"
            ]
          },
          "metadata": {},
          "execution_count": 62
        }
      ]
    },
    {
      "cell_type": "markdown",
      "source": [
        "**let's find confusion metrics**"
      ],
      "metadata": {
        "id": "hwc4p8OGqcib"
      }
    },
    {
      "cell_type": "code",
      "source": [
        "cm = confusion_matrix(y_test, y_pred)\n",
        "cm"
      ],
      "metadata": {
        "colab": {
          "base_uri": "https://localhost:8080/"
        },
        "id": "P9tmZqe2qizk",
        "outputId": "503388f4-cc6b-4fd5-bc94-5071aa49fca6"
      },
      "execution_count": 65,
      "outputs": [
        {
          "output_type": "execute_result",
          "data": {
            "text/plain": [
              "array([[867,   0,  12,  24,   6,   2,  73,   0,  16,   0],\n",
              "       [  4, 966,   1,  23,   2,   0,   3,   0,   1,   0],\n",
              "       [ 18,   2, 825,  10,  81,   1,  58,   0,   5,   0],\n",
              "       [ 41,  10,  16, 862,  44,   0,  20,   0,   7,   0],\n",
              "       [  2,   1, 123,  24, 774,   0,  67,   0,   9,   0],\n",
              "       [  0,   0,   0,   1,   0, 955,   0,  28,   2,  14],\n",
              "       [171,   1, 112,  26,  60,   0, 609,   0,  21,   0],\n",
              "       [  0,   0,   0,   0,   0,  28,   0, 944,   0,  28],\n",
              "       [  4,   1,   6,   6,   4,   2,  10,   6, 960,   1],\n",
              "       [  0,   0,   0,   0,   0,   8,   0,  42,   1, 949]])"
            ]
          },
          "metadata": {},
          "execution_count": 65
        }
      ]
    },
    {
      "cell_type": "code",
      "source": [
        "class_dict = {\n",
        "0:  \"T-shirt/top\",\n",
        "1:\"Trouser\",\n",
        "2: \"Pullover\",\n",
        "3:\"Dress\",\n",
        "4:\"Coat\",\n",
        "5:\"Sandal\",\n",
        "6:\"Shirt\",\n",
        "7:\"Bag\",\n",
        "8:\"Sneaker\",\n",
        "9:\"Ankle boot\"\n",
        "}"
      ],
      "metadata": {
        "id": "LlzuQ-qUsBg5"
      },
      "execution_count": 66,
      "outputs": []
    },
    {
      "cell_type": "code",
      "source": [
        "ConfusionMatrixDisplay(cm, display_labels=class_dict.values()).plot()"
      ],
      "metadata": {
        "colab": {
          "base_uri": "https://localhost:8080/",
          "height": 467
        },
        "id": "ofqGIqd3rFTI",
        "outputId": "a5a71740-cda3-4f56-cc6d-8cb2c4a4e32b"
      },
      "execution_count": 67,
      "outputs": [
        {
          "output_type": "execute_result",
          "data": {
            "text/plain": [
              "<sklearn.metrics._plot.confusion_matrix.ConfusionMatrixDisplay at 0x7fd919457fa0>"
            ]
          },
          "metadata": {},
          "execution_count": 67
        },
        {
          "output_type": "display_data",
          "data": {
            "text/plain": [
              "<Figure size 640x480 with 2 Axes>"
            ],
            "image/png": "[encoded data removed]"
          },
          "metadata": {}
        }
      ]
    },
    {
      "cell_type": "code",
      "source": [
        "model.evaluate(x_test,tf.keras.utils.to_categorical (y_test))"
      ],
      "metadata": {
        "colab": {
          "base_uri": "https://localhost:8080/"
        },
        "id": "v2BR5vNor7kR",
        "outputId": "acde0a2f-900c-4cd4-e8c9-1972d115bc97"
      },
      "execution_count": 69,
      "outputs": [
        {
          "output_type": "stream",
          "name": "stdout",
          "text": [
            "313/313 [==============================] - 1s 3ms/step - loss: 65.9328 - acc: 0.8350\n"
          ]
        },
        {
          "output_type": "execute_result",
          "data": {
            "text/plain": [
              "[65.93280792236328, 0.8349999785423279]"
            ]
          },
          "metadata": {},
          "execution_count": 69
        }
      ]
    },
    {
      "cell_type": "code",
      "source": [
        "scores.loc[scores.y_test != scores.y_pred].index"
      ],
      "metadata": {
        "colab": {
          "base_uri": "https://localhost:8080/"
        },
        "id": "Rg4vR0L9u5l2",
        "outputId": "879ae01c-cbb9-4288-9c59-e35f14e8b3c7"
      },
      "execution_count": 72,
      "outputs": [
        {
          "output_type": "execute_result",
          "data": {
            "text/plain": [
              "Int64Index([  12,   17,   23,   25,   29,   40,   42,   49,   50,   51,\n",
              "            ...\n",
              "            9955, 9957, 9961, 9963, 9972, 9977, 9979, 9985, 9989, 9991],\n",
              "           dtype='int64', length=1289)"
            ]
          },
          "metadata": {},
          "execution_count": 72
        }
      ]
    },
    {
      "cell_type": "code",
      "source": [
        "num = 12\n",
        "plt.imshow(x_test[num])\n",
        "\n",
        "plt.title(f\"Actual:{scores.loc[num, 'y_test']} & Predicted: {scores.loc[num, 'y_pred']}\")"
      ],
      "metadata": {
        "colab": {
          "base_uri": "https://localhost:8080/",
          "height": 470
        },
        "id": "ULyY3RLbu5iZ",
        "outputId": "a52690e1-d496-4fed-e1f6-507ecbf173d7"
      },
      "execution_count": 73,
      "outputs": [
        {
          "output_type": "execute_result",
          "data": {
            "text/plain": [
              "Text(0.5, 1.0, 'Actual:7 & Predicted: 5')"
            ]
          },
          "metadata": {},
          "execution_count": 73
        },
        {
          "output_type": "display_data",
          "data": {
            "text/plain": [
              "<Figure size 640x480 with 1 Axes>"
            ],
            "image/png": "[encoded data removed]"
          },
          "metadata": {}
        }
      ]
    }
  ]
}